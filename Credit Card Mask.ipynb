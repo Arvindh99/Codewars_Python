{
 "cells": [
  {
   "cell_type": "markdown",
   "id": "2760ad80",
   "metadata": {},
   "source": [
    "### Usually when you buy something, you're asked whether your credit card number, phone number or answer to your most secret question is still correct. However, since someone could look over your shoulder, you don't want that shown on your screen. Instead, we mask it.\n",
    "\n",
    "\n",
    "#### Your task is to write a function maskify, which changes all but the last four characters into '#'."
   ]
  },
  {
   "cell_type": "code",
   "execution_count": 1,
   "id": "7dd58712",
   "metadata": {},
   "outputs": [],
   "source": [
    "def maskify(cc):\n",
    "    length = len(cc)\n",
    "    total_hash = length - 4\n",
    "    total_hash = \"#\" * total_hash\n",
    "    if length > 4:\n",
    "        return total_hash + cc[-4:]\n",
    "    else:\n",
    "        return cc"
   ]
  }
 ],
 "metadata": {
  "kernelspec": {
   "display_name": "Python 3 (ipykernel)",
   "language": "python",
   "name": "python3"
  },
  "language_info": {
   "codemirror_mode": {
    "name": "ipython",
    "version": 3
   },
   "file_extension": ".py",
   "mimetype": "text/x-python",
   "name": "python",
   "nbconvert_exporter": "python",
   "pygments_lexer": "ipython3",
   "version": "3.10.9"
  }
 },
 "nbformat": 4,
 "nbformat_minor": 5
}
