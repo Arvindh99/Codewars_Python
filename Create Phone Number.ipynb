{
 "cells": [
  {
   "cell_type": "markdown",
   "id": "7b0cef6c",
   "metadata": {},
   "source": [
    "### Write a function that accepts an array of 10 integers (between 0 and 9), that returns a string of those numbers in the form of a phone number."
   ]
  },
  {
   "cell_type": "markdown",
   "id": "118155d6",
   "metadata": {},
   "source": [
    "#### Format: \"(123) 456-7890\""
   ]
  },
  {
   "cell_type": "code",
   "execution_count": 1,
   "id": "7dd58712",
   "metadata": {},
   "outputs": [
    {
     "name": "stdout",
     "output_type": "stream",
     "text": [
      "(944) 442-2199\n"
     ]
    }
   ],
   "source": [
    "def create_phone_number(n):\n",
    "    #your code here\n",
    "    phone_number = \"({}{}{}) {}{}{}-{}{}{}{}\".format(*n)\n",
    "    return phone_number\n",
    "    \n",
    "n = [9, 4, 4, 4, 4, 2, 2, 1, 9, 9]\n",
    "phone_number = create_phone_number(n)\n",
    "print(phone_number)"
   ]
  }
 ],
 "metadata": {
  "kernelspec": {
   "display_name": "Python 3 (ipykernel)",
   "language": "python",
   "name": "python3"
  },
  "language_info": {
   "codemirror_mode": {
    "name": "ipython",
    "version": 3
   },
   "file_extension": ".py",
   "mimetype": "text/x-python",
   "name": "python",
   "nbconvert_exporter": "python",
   "pygments_lexer": "ipython3",
   "version": "3.10.9"
  }
 },
 "nbformat": 4,
 "nbformat_minor": 5
}
